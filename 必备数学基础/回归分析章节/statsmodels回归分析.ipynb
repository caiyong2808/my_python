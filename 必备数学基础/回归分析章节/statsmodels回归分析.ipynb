{
 "cells": [
  {
   "cell_type": "code",
   "execution_count": 10,
   "metadata": {},
   "outputs": [
    {
     "data": {
      "text/plain": [
       "array([ 0.        ,  0.52631579,  1.05263158,  1.57894737,  2.10526316,\n",
       "        2.63157895,  3.15789474,  3.68421053,  4.21052632,  4.73684211,\n",
       "        5.26315789,  5.78947368,  6.31578947,  6.84210526,  7.36842105,\n",
       "        7.89473684,  8.42105263,  8.94736842,  9.47368421, 10.        ])"
      ]
     },
     "execution_count": 10,
     "metadata": {},
     "output_type": "execute_result"
    }
   ],
   "source": [
    "import numpy as np  # 导入包\n",
    "import matplotlib.pyplot as plt\n",
    "import statsmodels.api as sm\n",
    "\n",
    "nsample = 20  #生成20个样本点\n",
    "x = np.linspace(0, 10, nsample)  # 从0-10之间生成20个数\n",
    "x"
   ]
  },
  {
   "cell_type": "markdown",
   "metadata": {},
   "source": [
    "**一元线性回归**"
   ]
  },
  {
   "cell_type": "code",
   "execution_count": 11,
   "metadata": {},
   "outputs": [
    {
     "data": {
      "text/plain": [
       "array([[ 1.        ,  0.        ],\n",
       "       [ 1.        ,  0.52631579],\n",
       "       [ 1.        ,  1.05263158],\n",
       "       [ 1.        ,  1.57894737],\n",
       "       [ 1.        ,  2.10526316],\n",
       "       [ 1.        ,  2.63157895],\n",
       "       [ 1.        ,  3.15789474],\n",
       "       [ 1.        ,  3.68421053],\n",
       "       [ 1.        ,  4.21052632],\n",
       "       [ 1.        ,  4.73684211],\n",
       "       [ 1.        ,  5.26315789],\n",
       "       [ 1.        ,  5.78947368],\n",
       "       [ 1.        ,  6.31578947],\n",
       "       [ 1.        ,  6.84210526],\n",
       "       [ 1.        ,  7.36842105],\n",
       "       [ 1.        ,  7.89473684],\n",
       "       [ 1.        ,  8.42105263],\n",
       "       [ 1.        ,  8.94736842],\n",
       "       [ 1.        ,  9.47368421],\n",
       "       [ 1.        , 10.        ]])"
      ]
     },
     "execution_count": 11,
     "metadata": {},
     "output_type": "execute_result"
    }
   ],
   "source": [
    "X = sm.add_constant(x)  # 生成第一列都是1，第二列是原始数据\n",
    "X"
   ]
  },
  {
   "cell_type": "code",
   "execution_count": 12,
   "metadata": {},
   "outputs": [
    {
     "data": {
      "text/plain": [
       "array([2, 5])"
      ]
     },
     "execution_count": 12,
     "metadata": {},
     "output_type": "execute_result"
    }
   ],
   "source": [
    "#β0，β1分别设置成2，5\n",
    "beta = np.array([2,5])\n",
    "beta"
   ]
  },
  {
   "cell_type": "code",
   "execution_count": 13,
   "metadata": {},
   "outputs": [
    {
     "data": {
      "text/plain": [
       "array([-0.44917782, -0.7881134 , -0.41908437,  0.03441592, -1.52404766,\n",
       "       -0.00416825, -0.65333685,  1.67840733,  1.52347633, -0.43867697,\n",
       "        0.22222029,  0.61150455, -2.23946729,  1.22670988,  0.17836627,\n",
       "        0.66150276, -1.77887457,  0.37328361,  1.94511935, -0.05179077])"
      ]
     },
     "execution_count": 13,
     "metadata": {},
     "output_type": "execute_result"
    }
   ],
   "source": [
    "#构造一个高斯分布的误差项\n",
    "e = np.random.normal(size = nsample)\n",
    "e"
   ]
  },
  {
   "cell_type": "code",
   "execution_count": 14,
   "metadata": {},
   "outputs": [
    {
     "data": {
      "text/plain": [
       "array([ 1.55082218,  3.84346555,  6.84407352,  9.92915276, 11.00226813,\n",
       "       15.15372648, 17.13613683, 22.09945996, 24.57610791, 25.24553356,\n",
       "       28.53800976, 31.55887297, 31.33948008, 37.4372362 , 39.02047153,\n",
       "       42.13518697, 42.32638858, 47.11012572, 51.3135404 , 51.94820923])"
      ]
     },
     "execution_count": 14,
     "metadata": {},
     "output_type": "execute_result"
    }
   ],
   "source": [
    "#实际值y\n",
    "y = np.dot(X, beta) + e\n",
    "y"
   ]
  },
  {
   "cell_type": "code",
   "execution_count": 15,
   "metadata": {},
   "outputs": [],
   "source": [
    "#最小二乘法\n",
    "model = sm.OLS(y, X)"
   ]
  },
  {
   "cell_type": "code",
   "execution_count": 16,
   "metadata": {},
   "outputs": [],
   "source": [
    "#拟合数据\n",
    "res = model.fit()"
   ]
  },
  {
   "cell_type": "code",
   "execution_count": 17,
   "metadata": {},
   "outputs": [
    {
     "data": {
      "text/plain": [
       "array([1.58035731, 5.08501122])"
      ]
     },
     "execution_count": 17,
     "metadata": {},
     "output_type": "execute_result"
    }
   ],
   "source": [
    "#回归系数\n",
    "res.params  # 求出的结果就是β0和β1，会有一些差距，因为数据点比较少，可以早多点数据点"
   ]
  },
  {
   "cell_type": "code",
   "execution_count": 18,
   "metadata": {},
   "outputs": [
    {
     "data": {
      "text/html": [
       "<table class=\"simpletable\">\n",
       "<caption>OLS Regression Results</caption>\n",
       "<tr>\n",
       "  <th>Dep. Variable:</th>            <td>y</td>        <th>  R-squared:         </th> <td>   0.995</td>\n",
       "</tr>\n",
       "<tr>\n",
       "  <th>Model:</th>                   <td>OLS</td>       <th>  Adj. R-squared:    </th> <td>   0.995</td>\n",
       "</tr>\n",
       "<tr>\n",
       "  <th>Method:</th>             <td>Least Squares</td>  <th>  F-statistic:       </th> <td>   3853.</td>\n",
       "</tr>\n",
       "<tr>\n",
       "  <th>Date:</th>             <td>Mon, 09 Nov 2020</td> <th>  Prob (F-statistic):</th> <td>1.89e-22</td>\n",
       "</tr>\n",
       "<tr>\n",
       "  <th>Time:</th>                 <td>21:52:46</td>     <th>  Log-Likelihood:    </th> <td> -29.445</td>\n",
       "</tr>\n",
       "<tr>\n",
       "  <th>No. Observations:</th>      <td>    20</td>      <th>  AIC:               </th> <td>   62.89</td>\n",
       "</tr>\n",
       "<tr>\n",
       "  <th>Df Residuals:</th>          <td>    18</td>      <th>  BIC:               </th> <td>   64.88</td>\n",
       "</tr>\n",
       "<tr>\n",
       "  <th>Df Model:</th>              <td>     1</td>      <th>                     </th>     <td> </td>   \n",
       "</tr>\n",
       "<tr>\n",
       "  <th>Covariance Type:</th>      <td>nonrobust</td>    <th>                     </th>     <td> </td>   \n",
       "</tr>\n",
       "</table>\n",
       "<table class=\"simpletable\">\n",
       "<tr>\n",
       "    <td></td>       <th>coef</th>     <th>std err</th>      <th>t</th>      <th>P>|t|</th>  <th>[0.025</th>    <th>0.975]</th>  \n",
       "</tr>\n",
       "<tr>\n",
       "  <th>const</th> <td>    1.5804</td> <td>    0.479</td> <td>    3.298</td> <td> 0.004</td> <td>    0.574</td> <td>    2.587</td>\n",
       "</tr>\n",
       "<tr>\n",
       "  <th>x1</th>    <td>    5.0850</td> <td>    0.082</td> <td>   62.075</td> <td> 0.000</td> <td>    4.913</td> <td>    5.257</td>\n",
       "</tr>\n",
       "</table>\n",
       "<table class=\"simpletable\">\n",
       "<tr>\n",
       "  <th>Omnibus:</th>       <td> 1.296</td> <th>  Durbin-Watson:     </th> <td>   2.429</td>\n",
       "</tr>\n",
       "<tr>\n",
       "  <th>Prob(Omnibus):</th> <td> 0.523</td> <th>  Jarque-Bera (JB):  </th> <td>   0.560</td>\n",
       "</tr>\n",
       "<tr>\n",
       "  <th>Skew:</th>          <td>-0.408</td> <th>  Prob(JB):          </th> <td>   0.756</td>\n",
       "</tr>\n",
       "<tr>\n",
       "  <th>Kurtosis:</th>      <td> 3.073</td> <th>  Cond. No.          </th> <td>    11.5</td>\n",
       "</tr>\n",
       "</table><br/><br/>Warnings:<br/>[1] Standard Errors assume that the covariance matrix of the errors is correctly specified."
      ],
      "text/plain": [
       "<class 'statsmodels.iolib.summary.Summary'>\n",
       "\"\"\"\n",
       "                            OLS Regression Results                            \n",
       "==============================================================================\n",
       "Dep. Variable:                      y   R-squared:                       0.995\n",
       "Model:                            OLS   Adj. R-squared:                  0.995\n",
       "Method:                 Least Squares   F-statistic:                     3853.\n",
       "Date:                Mon, 09 Nov 2020   Prob (F-statistic):           1.89e-22\n",
       "Time:                        21:52:46   Log-Likelihood:                -29.445\n",
       "No. Observations:                  20   AIC:                             62.89\n",
       "Df Residuals:                      18   BIC:                             64.88\n",
       "Df Model:                           1                                         \n",
       "Covariance Type:            nonrobust                                         \n",
       "==============================================================================\n",
       "                 coef    std err          t      P>|t|      [0.025      0.975]\n",
       "------------------------------------------------------------------------------\n",
       "const          1.5804      0.479      3.298      0.004       0.574       2.587\n",
       "x1             5.0850      0.082     62.075      0.000       4.913       5.257\n",
       "==============================================================================\n",
       "Omnibus:                        1.296   Durbin-Watson:                   2.429\n",
       "Prob(Omnibus):                  0.523   Jarque-Bera (JB):                0.560\n",
       "Skew:                          -0.408   Prob(JB):                        0.756\n",
       "Kurtosis:                       3.073   Cond. No.                         11.5\n",
       "==============================================================================\n",
       "\n",
       "Warnings:\n",
       "[1] Standard Errors assume that the covariance matrix of the errors is correctly specified.\n",
       "\"\"\""
      ]
     },
     "execution_count": 18,
     "metadata": {},
     "output_type": "execute_result"
    }
   ],
   "source": [
    "#全部结果\n",
    "res.summary()"
   ]
  },
  {
   "cell_type": "markdown",
   "metadata": {},
   "source": [
    "R-squared:R方值，评估线性回归方程好不好，主要看R方\n",
    "Adj. R-squared:\t调整后R方值\n",
    "Prob (F-statistic):检验是否可用线性回归方程，越小线性关系越强\n",
    "No. Observations:\t观察的样本\n",
    "const：常数项，对应β0\n",
    "x1：对应β1"
   ]
  },
  {
   "cell_type": "code",
   "execution_count": 19,
   "metadata": {},
   "outputs": [
    {
     "data": {
      "text/plain": [
       "array([ 1.58035731,  4.256679  ,  6.9330007 ,  9.60932239, 12.28564409,\n",
       "       14.96196578, 17.63828748, 20.31460918, 22.99093087, 25.66725257,\n",
       "       28.34357426, 31.01989596, 33.69621766, 36.37253935, 39.04886105,\n",
       "       41.72518274, 44.40150444, 47.07782614, 49.75414783, 52.43046953])"
      ]
     },
     "execution_count": 19,
     "metadata": {},
     "output_type": "execute_result"
    }
   ],
   "source": [
    "#拟合的估计值\n",
    "y_ = res.fittedvalues\n",
    "y_"
   ]
  },
  {
   "cell_type": "code",
   "execution_count": 21,
   "metadata": {},
   "outputs": [
    {
     "data": {
      "image/png": "[encoded data removed]",
      "text/plain": [
       "<Figure size 576x432 with 1 Axes>"
      ]
     },
     "metadata": {
      "needs_background": "light"
     },
     "output_type": "display_data"
    }
   ],
   "source": [
    "fig, ax = plt.subplots(figsize=(8,6))\n",
    "ax.plot(x,y,'o',label='data')  # 原始数据\n",
    "ax.plot(x,y_,'r--.',label='test')  #拟合数据\n",
    "ax.legend(loc='best')\n",
    "plt.show()"
   ]
  },
  {
   "cell_type": "markdown",
   "metadata": {},
   "source": [
    "可以看到非常接近原始值"
   ]
  },
  {
   "cell_type": "code",
   "execution_count": null,
   "metadata": {},
   "outputs": [],
   "source": []
  }
 ],
 "metadata": {
  "kernelspec": {
   "display_name": "Python 3",
   "language": "python",
   "name": "python3"
  },
  "language_info": {
   "codemirror_mode": {
    "name": "ipython",
    "version": 3
   },
   "file_extension": ".py",
   "mimetype": "text/x-python",
   "name": "python",
   "nbconvert_exporter": "python",
   "pygments_lexer": "ipython3",
   "version": "3.7.3"
  }
 },
 "nbformat": 4,
 "nbformat_minor": 2
}
